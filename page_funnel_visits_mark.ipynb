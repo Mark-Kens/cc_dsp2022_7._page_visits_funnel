{
 "cells": [
  {
   "cell_type": "code",
   "execution_count": 2,
   "metadata": {},
   "outputs": [],
   "source": [
    "import pandas as pd"
   ]
  },
  {
   "cell_type": "markdown",
   "metadata": {},
   "source": [
    "Import all the files"
   ]
  },
  {
   "cell_type": "code",
   "execution_count": 3,
   "metadata": {},
   "outputs": [],
   "source": [
    "visits = pd.read_csv('visits.csv',\n",
    "                     parse_dates=[1])\n",
    "cart = pd.read_csv('cart.csv',\n",
    "                   parse_dates=[1])\n",
    "                   \n",
    "checkout = pd.read_csv('checkout.csv',\n",
    "                       parse_dates=[1])\n",
    "purchase = pd.read_csv('purchase.csv',\n",
    "                       parse_dates=[1])"
   ]
  },
  {
   "cell_type": "markdown",
   "metadata": {},
   "source": [
    "Step 1: Inspect the DataFrames using `print` and `head`"
   ]
  },
  {
   "cell_type": "code",
   "execution_count": 79,
   "metadata": {},
   "outputs": [
    {
     "name": "stdout",
     "output_type": "stream",
     "text": [
      "                                user_id          visit_time\n",
      "0  943647ef-3682-4750-a2e1-918ba6f16188 2017-04-07 15:14:00\n",
      "1  0c3a3dd0-fb64-4eac-bf84-ba069ce409f2 2017-01-26 14:24:00\n",
      "2  6e0b2d60-4027-4d9a-babd-0e7d40859fb1 2017-08-20 08:23:00\n",
      "3  6879527e-c5a6-4d14-b2da-50b85212b0ab 2017-11-04 18:15:00\n",
      "4  a84327ff-5daa-4ba1-b789-d5b4caf81e96 2017-02-27 11:25:00\n",
      "                                user_id           cart_time\n",
      "0  2be90e7c-9cca-44e0-bcc5-124b945ff168 2017-11-07 20:45:00\n",
      "1  4397f73f-1da3-4ab3-91af-762792e25973 2017-05-27 01:35:00\n",
      "2  a9db3d4b-0a0a-4398-a55a-ebb2c7adf663 2017-03-04 10:38:00\n",
      "3  b594862a-36c5-47d5-b818-6e9512b939b3 2017-09-27 08:22:00\n",
      "4  a68a16e2-94f0-4ce8-8ce3-784af0bbb974 2017-07-26 15:48:00\n",
      "                                user_id       checkout_time\n",
      "0  d33bdc47-4afa-45bc-b4e4-dbe948e34c0d 2017-06-25 09:29:00\n",
      "1  4ac186f0-9954-4fea-8a27-c081e428e34e 2017-04-07 20:11:00\n",
      "2  3c9c78a7-124a-4b77-8d2e-e1926e011e7d 2017-07-13 11:38:00\n",
      "3  89fe330a-8966-4756-8f7c-3bdbcd47279a 2017-04-20 16:15:00\n",
      "4  3ccdaf69-2d30-40de-b083-51372881aedd 2017-01-08 20:52:00\n",
      "                                user_id       purchase_time\n",
      "0  4b44ace4-2721-47a0-b24b-15fbfa2abf85 2017-05-11 04:25:00\n",
      "1  02e684ae-a448-408f-a9ff-dcb4a5c99aac 2017-09-05 08:45:00\n",
      "2  4b4bc391-749e-4b90-ab8f-4f6e3c84d6dc 2017-11-20 20:49:00\n",
      "3  a5dbb25f-3c36-4103-9030-9f7c6241cd8d 2017-01-22 15:18:00\n",
      "4  46a3186d-7f5a-4ab9-87af-84d05bfd4867 2017-06-11 11:32:00\n",
      "2000\n",
      "348\n",
      "226\n",
      "252\n",
      "count_checkout_time_NaT: 0\n"
     ]
    }
   ],
   "source": [
    "# ****    DOES NOT MAKE SENSE.    ****\n",
    "\n",
    "# 1. When merging purchase table, the number of records grows from 2000 to 2108; 108 new users.\n",
    "# 2. purchase table has 26 rows more than checkout. Purchasing without checkout.\n",
    "\n",
    "\n",
    "\n",
    "print(visits.head(5))\n",
    "print(cart.head(5))\n",
    "print(checkout.head(5))\n",
    "print(purchase.head(5))\n",
    "\n",
    "print(len(visits))\n",
    "print(len(cart))\n",
    "print(len(checkout))\n",
    "print(len(purchase))\n",
    "\n",
    "\n",
    "# count_checkout_time_NaT = checkout[checkout.checkout_time.isnull()]\n",
    "# print(count_checkout_time_NaT)\n",
    "\n",
    "count_checkout_time_NaT = len(checkout[checkout.checkout_time.isnull()])\n",
    "print(\"count_checkout_time_NaT: \" + str(count_checkout_time_NaT))\n",
    "\n"
   ]
  },
  {
   "cell_type": "markdown",
   "metadata": {},
   "source": [
    "Step 2: Left merging visits and cart"
   ]
  },
  {
   "cell_type": "code",
   "execution_count": 62,
   "metadata": {},
   "outputs": [
    {
     "name": "stdout",
     "output_type": "stream",
     "text": [
      "252\n"
     ]
    },
    {
     "data": {
      "text/plain": [
       "<bound method DataFrame.info of                                   user_id       purchase_time\n",
       "0    4b44ace4-2721-47a0-b24b-15fbfa2abf85 2017-05-11 04:25:00\n",
       "1    02e684ae-a448-408f-a9ff-dcb4a5c99aac 2017-09-05 08:45:00\n",
       "2    4b4bc391-749e-4b90-ab8f-4f6e3c84d6dc 2017-11-20 20:49:00\n",
       "3    a5dbb25f-3c36-4103-9030-9f7c6241cd8d 2017-01-22 15:18:00\n",
       "4    46a3186d-7f5a-4ab9-87af-84d05bfd4867 2017-06-11 11:32:00\n",
       "..                                    ...                 ...\n",
       "247  278c0f3c-d092-4e7f-b97b-97cc9d57c1c2 2017-01-05 02:45:00\n",
       "248  952be3a5-9240-484f-845c-a6b2cbed72ee 2017-05-02 06:10:00\n",
       "249  27e5a297-332d-4e8b-8e2a-b97ae8c5b6f9 2017-09-04 17:39:00\n",
       "250  4b04c692-d814-45bd-854a-000e0ef4e92a 2017-06-20 17:28:00\n",
       "251  c62fdf2f-3b30-4624-8463-d3961e687997 2017-11-21 23:00:00\n",
       "\n",
       "[252 rows x 2 columns]>"
      ]
     },
     "execution_count": 62,
     "metadata": {},
     "output_type": "execute_result"
    }
   ],
   "source": [
    "\n",
    "print(len(purchase))\n",
    "purchase.info\n",
    "\n",
    "\n",
    "\n",
    "\n",
    "# visits_cart_left = pd.merge(visits, cart, how='left')\n",
    "# Or\n",
    "# visits_cart = visits.merge(cart, how = 'left')"
   ]
  },
  {
   "cell_type": "markdown",
   "metadata": {},
   "source": [
    "Step 3: How long is `visits_cart`?"
   ]
  },
  {
   "cell_type": "code",
   "execution_count": 14,
   "metadata": {},
   "outputs": [
    {
     "name": "stdout",
     "output_type": "stream",
     "text": [
      "2000\n"
     ]
    },
    {
     "data": {
      "text/plain": [
       "<bound method DataFrame.info of                                    user_id          visit_time  \\\n",
       "0     943647ef-3682-4750-a2e1-918ba6f16188 2017-04-07 15:14:00   \n",
       "1     0c3a3dd0-fb64-4eac-bf84-ba069ce409f2 2017-01-26 14:24:00   \n",
       "2     6e0b2d60-4027-4d9a-babd-0e7d40859fb1 2017-08-20 08:23:00   \n",
       "3     6879527e-c5a6-4d14-b2da-50b85212b0ab 2017-11-04 18:15:00   \n",
       "4     a84327ff-5daa-4ba1-b789-d5b4caf81e96 2017-02-27 11:25:00   \n",
       "...                                    ...                 ...   \n",
       "1995  33913ac2-03da-45ae-8fc3-fea39df827c6 2017-03-25 03:29:00   \n",
       "1996  4f850132-b99d-4623-80e6-6e61d003577e 2017-01-08 09:57:00   \n",
       "1997  f0830b9b-1f5c-4e74-b63d-3f847cc6ce70 2017-09-07 12:56:00   \n",
       "1998  b01bffa7-63ba-4cd3-9d93-eb1477c23831 2017-07-20 04:37:00   \n",
       "1999  0336ca81-8d68-443f-9248-ac0b8ad147d5 2017-11-15 10:11:00   \n",
       "\n",
       "               cart_time  \n",
       "0                    NaT  \n",
       "1    2017-01-26 14:44:00  \n",
       "2    2017-08-20 08:31:00  \n",
       "3                    NaT  \n",
       "4                    NaT  \n",
       "...                  ...  \n",
       "1995                 NaT  \n",
       "1996                 NaT  \n",
       "1997                 NaT  \n",
       "1998                 NaT  \n",
       "1999                 NaT  \n",
       "\n",
       "[2000 rows x 3 columns]>"
      ]
     },
     "execution_count": 14,
     "metadata": {},
     "output_type": "execute_result"
    }
   ],
   "source": [
    "total_visits = len(visits_cart_left)\n",
    "print(total_visits)\n",
    "# Or\n",
    "visits_cart_left.info"
   ]
  },
  {
   "cell_type": "markdown",
   "metadata": {},
   "source": [
    "Step 4: How many timestamps are null for `cart_time`?"
   ]
  },
  {
   "cell_type": "code",
   "execution_count": 15,
   "metadata": {},
   "outputs": [
    {
     "name": "stdout",
     "output_type": "stream",
     "text": [
      "1652\n",
      "1652\n"
     ]
    }
   ],
   "source": [
    "count_cart_time_NaT = visits_cart_left['cart_time'].isna().sum()\n",
    "print(count_cart_time_NaT)\n",
    "# Or\n",
    "null_cart_times = len(visits_cart_left[visits_cart_left.cart_time.isnull()])\n",
    "print(null_cart_times)"
   ]
  },
  {
   "cell_type": "markdown",
   "metadata": {},
   "source": [
    "Step 5: What percentage only visited?"
   ]
  },
  {
   "cell_type": "code",
   "execution_count": 20,
   "metadata": {},
   "outputs": [
    {
     "name": "stdout",
     "output_type": "stream",
     "text": [
      "82.6\n"
     ]
    }
   ],
   "source": [
    "visit_only_percent = (count_cart_time_NaT / len(visits_cart_left)) * 100\n",
    "print(visit_only_percent)"
   ]
  },
  {
   "cell_type": "markdown",
   "metadata": {},
   "source": [
    "Step 6: What percentage placed a t-shirt in their cart but did not checkout?"
   ]
  },
  {
   "cell_type": "code",
   "execution_count": 30,
   "metadata": {},
   "outputs": [
    {
     "name": "stdout",
     "output_type": "stream",
     "text": [
      "                                user_id           cart_time  \\\n",
      "0  2be90e7c-9cca-44e0-bcc5-124b945ff168 2017-11-07 20:45:00   \n",
      "1  4397f73f-1da3-4ab3-91af-762792e25973 2017-05-27 01:35:00   \n",
      "2  a9db3d4b-0a0a-4398-a55a-ebb2c7adf663 2017-03-04 10:38:00   \n",
      "3  b594862a-36c5-47d5-b818-6e9512b939b3 2017-09-27 08:22:00   \n",
      "4  a68a16e2-94f0-4ce8-8ce3-784af0bbb974 2017-07-26 15:48:00   \n",
      "\n",
      "        checkout_time  \n",
      "0 2017-11-07 21:14:00  \n",
      "1                 NaT  \n",
      "2 2017-03-04 11:04:00  \n",
      "3 2017-09-27 08:26:00  \n",
      "4                 NaT  \n",
      "348\n",
      "122\n",
      "35.05747126436782\n"
     ]
    }
   ],
   "source": [
    "cart_checkout_left = cart.merge(checkout, how='left')\n",
    "print(cart_checkout_left.head())\n",
    "print(len(cart_checkout_left))\n",
    "count_checkout_time_NaT = len(cart_checkout_left[cart_checkout_left.checkout_time.isnull()])\n",
    "print(count_checkout_time_NaT)\n",
    "cart_only_percent = (count_checkout_time_NaT / len(cart_checkout_left)) * 100\n",
    "print(cart_only_percent)"
   ]
  },
  {
   "cell_type": "markdown",
   "metadata": {},
   "source": [
    "Step 7: Merge it all together"
   ]
  },
  {
   "cell_type": "code",
   "execution_count": 80,
   "metadata": {},
   "outputs": [
    {
     "name": "stdout",
     "output_type": "stream",
     "text": [
      "2000\n",
      "\n",
      "                                user_id          visit_time  \\\n",
      "0  943647ef-3682-4750-a2e1-918ba6f16188 2017-04-07 15:14:00   \n",
      "1  0c3a3dd0-fb64-4eac-bf84-ba069ce409f2 2017-01-26 14:24:00   \n",
      "2  6e0b2d60-4027-4d9a-babd-0e7d40859fb1 2017-08-20 08:23:00   \n",
      "3  6879527e-c5a6-4d14-b2da-50b85212b0ab 2017-11-04 18:15:00   \n",
      "4  a84327ff-5daa-4ba1-b789-d5b4caf81e96 2017-02-27 11:25:00   \n",
      "5  7bc62113-d51d-4e6b-85e0-1cf29e3de74a 2017-06-03 20:05:00   \n",
      "6  6f22cd44-bc63-4449-a9af-2651859da2f9 2017-03-18 23:09:00   \n",
      "7  49a6399b-c095-4e42-92eb-af90abe2bb6a 2017-01-10 12:09:00   \n",
      "8  653c095d-fd74-40dd-ae3b-5a69a2613629 2017-06-27 19:21:00   \n",
      "9  3d9fdac1-aae3-4a01-b448-934d12047468 2017-09-24 06:43:00   \n",
      "\n",
      "            cart_time       checkout_time  \n",
      "0                 NaT                 NaT  \n",
      "1 2017-01-26 14:44:00 2017-01-26 14:54:00  \n",
      "2 2017-08-20 08:31:00                 NaT  \n",
      "3                 NaT                 NaT  \n",
      "4                 NaT                 NaT  \n",
      "5                 NaT                 NaT  \n",
      "6                 NaT                 NaT  \n",
      "7                 NaT                 NaT  \n",
      "8                 NaT                 NaT  \n",
      "9                 NaT                 NaT  \n",
      "2000\n",
      "count_checkout_time_NaT: 1774\n",
      "                                user_id          visit_time  \\\n",
      "0  943647ef-3682-4750-a2e1-918ba6f16188 2017-04-07 15:14:00   \n",
      "1  0c3a3dd0-fb64-4eac-bf84-ba069ce409f2 2017-01-26 14:24:00   \n",
      "2  6e0b2d60-4027-4d9a-babd-0e7d40859fb1 2017-08-20 08:23:00   \n",
      "3  6879527e-c5a6-4d14-b2da-50b85212b0ab 2017-11-04 18:15:00   \n",
      "4  a84327ff-5daa-4ba1-b789-d5b4caf81e96 2017-02-27 11:25:00   \n",
      "5  7bc62113-d51d-4e6b-85e0-1cf29e3de74a 2017-06-03 20:05:00   \n",
      "6  6f22cd44-bc63-4449-a9af-2651859da2f9 2017-03-18 23:09:00   \n",
      "7  49a6399b-c095-4e42-92eb-af90abe2bb6a 2017-01-10 12:09:00   \n",
      "8  653c095d-fd74-40dd-ae3b-5a69a2613629 2017-06-27 19:21:00   \n",
      "9  3d9fdac1-aae3-4a01-b448-934d12047468 2017-09-24 06:43:00   \n",
      "\n",
      "            cart_time       checkout_time       purchase_time  \n",
      "0                 NaT                 NaT                 NaT  \n",
      "1 2017-01-26 14:44:00 2017-01-26 14:54:00 2017-01-26 15:08:00  \n",
      "2 2017-08-20 08:31:00                 NaT                 NaT  \n",
      "3                 NaT                 NaT                 NaT  \n",
      "4                 NaT                 NaT                 NaT  \n",
      "5                 NaT                 NaT                 NaT  \n",
      "6                 NaT                 NaT                 NaT  \n",
      "7                 NaT                 NaT                 NaT  \n",
      "8                 NaT                 NaT                 NaT  \n",
      "9                 NaT                 NaT                 NaT  \n",
      "2108\n",
      "count_purchase_time_NaT: 1856\n",
      "count_checkout_time_NaT_in_3rd: 1774\n"
     ]
    }
   ],
   "source": [
    "# This does not work:\n",
    "# all_data = pd.merge(visits, cart, checkout, purchase)\n",
    "# This does not work:\n",
    "# all_data = pd.merge(visits, cart, checkout, purchase, how='left')\n",
    "\n",
    "# This works:\n",
    "# Left-merge first two tables. Then left-merge with next table etc.\n",
    "# My first left-merged dataframe already exists: visits_cart_left. This would have been all_data_step_1.\n",
    "print(len(visits_cart_left))\n",
    "all_data_step_2 = pd.merge(visits_cart_left, checkout, how='left')\n",
    "print()\n",
    "print(all_data_step_2.head(10))\n",
    "print(len(all_data_step_2))\n",
    "count_checkout_time_NaT = len(all_data_step_2[all_data_step_2.checkout_time.isnull()])\n",
    "print(\"count_checkout_time_NaT: \" + str(count_checkout_time_NaT))\n",
    "\n",
    "\n",
    "all_data_step_3 = pd.merge(all_data_step_1, purchase, how='left')\n",
    "all_data = all_data_step_3\n",
    "print(all_data.head(10))\n",
    "print(len(all_data))\n",
    "count_purchase_time_NaT = len(all_data_step_3[all_data_step_3.purchase_time.isnull()])\n",
    "print(\"count_purchase_time_NaT: \" + str(count_purchase_time_NaT))\n",
    "\n",
    "count_checkout_time_NaT_in_3rd = len(all_data_step_3[all_data_step_3.checkout_time.isnull()])\n",
    "print(\"count_checkout_time_NaT_in_3rd: \" + str(count_checkout_time_NaT_in_3rd))\n",
    "\n",
    "\n",
    "\n",
    "\n",
    "# Solution document starts with table_1_and_2; leftmerge table_2_and_3; leftmerge table_4:\n",
    "#all_data = visits_cart\\\n",
    "#.merge(cart_checkout, how = 'left')\\\n",
    "#.merge(purchase, how = 'left')"
   ]
  },
  {
   "cell_type": "markdown",
   "metadata": {},
   "source": [
    "Step 8: % of users who got to checkout but did not purchase"
   ]
  },
  {
   "cell_type": "code",
   "execution_count": 55,
   "metadata": {},
   "outputs": [
    {
     "name": "stdout",
     "output_type": "stream",
     "text": [
      "count_checkout_time: 334\n",
      "count_checkout_time: 334\n",
      "count_purchase_time: 252\n",
      "count_purchase_time: 252\n",
      "count_checked_out_but_not_purchased: 82\n",
      "checkout_no_purchase_percent: 24.550898203592812\n",
      "\n",
      "Solution document:\n",
      "reached_checkout:                                    user_id          visit_time  \\\n",
      "1     0c3a3dd0-fb64-4eac-bf84-ba069ce409f2 2017-01-26 14:24:00   \n",
      "14    486480e2-98c3-4d51-8f4b-b1c07228ce84 2017-01-27 16:34:00   \n",
      "31    1868e912-b38c-4ef0-8824-5665c42288e5 2017-03-17 11:48:00   \n",
      "48    3ccdaf69-2d30-40de-b083-51372881aedd 2017-01-08 20:21:00   \n",
      "49    3ccdaf69-2d30-40de-b083-51372881aedd 2017-01-08 20:21:00   \n",
      "...                                    ...                 ...   \n",
      "2083  d2cb350b-2201-4290-b2e0-84a8bf0d6883 2017-08-08 16:05:00   \n",
      "2093  f46c88d0-2441-40a8-97fe-6841ff6f050d 2017-09-06 08:42:00   \n",
      "2097  f783c680-1d9a-437d-9f45-7827299b78fa 2017-06-25 08:07:00   \n",
      "2098  f783c680-1d9a-437d-9f45-7827299b78fa 2017-06-25 08:07:00   \n",
      "2099  f783c680-1d9a-437d-9f45-7827299b78fa 2017-06-25 08:07:00   \n",
      "\n",
      "               cart_time       checkout_time       purchase_time  \n",
      "1    2017-01-26 14:44:00 2017-01-26 14:54:00 2017-01-26 15:08:00  \n",
      "14   2017-01-27 16:44:00 2017-01-27 17:10:00 2017-01-27 17:12:00  \n",
      "31   2017-03-17 11:56:00 2017-03-17 11:58:00                 NaT  \n",
      "48   2017-01-08 20:38:00 2017-01-08 20:52:00 2017-01-08 21:02:00  \n",
      "49   2017-01-08 20:38:00 2017-01-08 20:52:00 2017-01-08 21:21:00  \n",
      "...                  ...                 ...                 ...  \n",
      "2083 2017-08-08 16:07:00 2017-08-08 16:34:00 2017-08-08 16:34:00  \n",
      "2093 2017-09-06 09:02:00 2017-09-06 09:22:00 2017-09-06 09:28:00  \n",
      "2097 2017-06-25 08:08:00 2017-06-25 08:28:00 2017-06-25 08:39:00  \n",
      "2098 2017-06-25 08:08:00 2017-06-25 08:28:00 2017-06-25 08:35:00  \n",
      "2099 2017-06-25 08:08:00 2017-06-25 08:28:00 2017-06-25 08:18:00  \n",
      "\n",
      "[334 rows x 5 columns]\n",
      "checkout_not_purchase:                                    user_id          visit_time  \\\n",
      "31    1868e912-b38c-4ef0-8824-5665c42288e5 2017-03-17 11:48:00   \n",
      "54    dc5d8fe9-3321-4c86-b66d-7c343decdc4a 2017-09-13 13:06:00   \n",
      "146   fffc2dfc-fdc1-407a-9c6d-e6507157d1a6 2017-07-03 19:20:00   \n",
      "151   0182a7b9-2099-4476-8f7d-51f2c2f71dff 2017-09-08 16:26:00   \n",
      "161   2faac6a9-974c-49fb-b815-44f3a5fc06e1 2017-03-27 21:51:00   \n",
      "...                                    ...                 ...   \n",
      "2024  61916219-9600-4c72-93fc-666dd9285fb9 2017-01-04 05:20:00   \n",
      "2037  699acf1d-b5e0-4573-a54b-97ecd4c93572 2017-08-19 08:09:00   \n",
      "2056  4686af83-e275-49f7-a82b-c32f3521372a 2017-09-23 16:46:00   \n",
      "2070  3a6487df-d934-4d28-b531-1166621eb7db 2017-08-12 17:59:00   \n",
      "2078  5cda3654-faab-4432-ae28-0edca81de2f5 2017-08-23 08:29:00   \n",
      "\n",
      "               cart_time       checkout_time purchase_time  \n",
      "31   2017-03-17 11:56:00 2017-03-17 11:58:00           NaT  \n",
      "54   2017-09-13 13:30:00 2017-09-13 13:26:00           NaT  \n",
      "146  2017-07-03 19:40:00 2017-07-03 19:51:00           NaT  \n",
      "151  2017-09-08 16:34:00 2017-09-08 16:59:00           NaT  \n",
      "161  2017-03-27 21:54:00 2017-03-27 22:19:00           NaT  \n",
      "...                  ...                 ...           ...  \n",
      "2024 2017-01-04 05:23:00 2017-01-04 05:32:00           NaT  \n",
      "2037 2017-08-19 08:32:00 2017-08-19 08:56:00           NaT  \n",
      "2056 2017-09-23 16:55:00 2017-09-23 17:16:00           NaT  \n",
      "2070 2017-08-12 18:10:00 2017-08-12 18:17:00           NaT  \n",
      "2078 2017-08-23 08:55:00 2017-08-23 09:05:00           NaT  \n",
      "\n",
      "[82 rows x 5 columns]\n",
      "% of users who got to checkout but did not purchase: 0.24550898203592814\n"
     ]
    }
   ],
   "source": [
    "# I want the count of people who checked out (checkout_time not NULL): count_checkout_time \n",
    "# This number includes people who purchased and did not purchase: count_checkout_time \n",
    "# Attention: I only need the subset of NaT in 'purchase_time' that checked out.\n",
    "# Count people who puchased: count_purchase_time\n",
    "# Subtract from people who checked out: \n",
    "# count_checkout_time - count_purchase_time: count_checked_out_but_not_purchased\n",
    "# Calculate percentage.\n",
    "\n",
    "# Then, count purchase_time (not NULL). \n",
    "count_checkout_time = all_data.checkout_time.count()\n",
    "print(\"count_checkout_time: \" + str(count_checkout_time))\n",
    "# Or\n",
    "count_checkout_time = all_data.checkout_time.notnull().sum()\n",
    "print(\"count_checkout_time: \" + str(count_checkout_time))\n",
    "\n",
    "count_purchase_time = all_data.purchase_time.count()\n",
    "print(\"count_purchase_time: \" + str(count_purchase_time))\n",
    "# Or\n",
    "count_purchase_time = all_data.purchase_time.notnull().sum()\n",
    "print(\"count_purchase_time: \" + str(count_purchase_time))\n",
    "\n",
    "count_checked_out_but_not_purchased = count_checkout_time - count_purchase_time\n",
    "print(\"count_checked_out_but_not_purchased: \" + str(count_checked_out_but_not_purchased))\n",
    "\n",
    "checkout_no_purchase_percent = (count_checked_out_but_not_purchased / count_checkout_time) * 100\n",
    "print(\"checkout_no_purchase_percent: \" + str(checkout_no_purchase_percent))\n",
    "\n",
    "# Solution document (confusing):\n",
    "print()\n",
    "print(\"Solution document:\")\n",
    "reached_checkout = all_data[~all_data.checkout_time.isnull()]\n",
    "print(\"reached_checkout: \" + str(reached_checkout))\n",
    "checkout_not_purchase = all_data[(all_data.purchase_time.isnull()) & (~all_data.checkout_time.isnull())]\n",
    "print(\"checkout_not_purchase: \" + str(checkout_not_purchase))\n",
    "checkout_not_purchase_percent = float(len(checkout_not_purchase)) / float(len(reached_checkout))\n",
    "\n",
    "print(\"% of users who got to checkout but did not purchase:\",checkout_not_purchase_percent)\n"
   ]
  },
  {
   "cell_type": "markdown",
   "metadata": {},
   "source": [
    "Step 9: check each part of the funnel, let's print all 3 of them again"
   ]
  },
  {
   "cell_type": "code",
   "execution_count": null,
   "metadata": {},
   "outputs": [],
   "source": [
    "# print(len(visits)): 2000\n",
    "# print(len(cart)): 348\n",
    "# print(len(checkout)): 226\n",
    "# print(len(purchase)): 252\n",
    "\n",
    "### 252-226=26 people purchased without checkout. \n",
    "# ****    DOES NOT MAKE SENSE.    ****\n",
    "\n",
    "# 1st merge: Left-merge first two tables (visits, cart). len(visits_cart_left) = 2000\n",
    "# 2nd merge: Left-merge next one (checkout) to visits_cart_left. len (all_data_step_2) = 2000\n",
    "# 3rd merge: Left-merge next one (purchase) to all_data_step_2. len (all_data) = 2108\n",
    "# The purchase table must have had 108 new user_ids. \n",
    "# ****    DOES NOT MAKE SENSE.    ****\n",
    "\n",
    "# In 1st merge: count_cart_time_NaT = 1652 (not put in cart)\n",
    "# 2000 - 1652 = 348 (in cart)\n",
    "\n",
    "# In 2nd merge: count_checkout_time_NaT = 1774 (not checked out)\n",
    "# 2000 - 1774 = 226 (checked out)\n",
    "\n",
    "# In 3rd merge: count_purchase_time_NaT = 1856 (not purchased)\n",
    "# 2108 - 1856 = 252 (purchased)\n",
    "\n",
    "\n",
    "# Double-check count_checkout_time_NaT: \n",
    "# In 3rd merge: count_checkout_time_NaT_in_3rd = 1774 (not checked out)\n",
    "# 2108 - 1774 = 334 (checked out)\n",
    "\n",
    "# DOES NOT MAKE SENSE \n",
    "\n",
    "\n",
    "\n",
    "\n",
    "\n",
    "# visits = 2000 = 100%\n",
    "# cart = not checked out = 1652 = 82.6%\n",
    "# \n",
    "# "
   ]
  },
  {
   "cell_type": "markdown",
   "metadata": {},
   "source": [
    "*The weakest part of the funnel is clearly getting a person who visited the site to add a tshirt to their cart. Once they've added a t-shirt to their cart it is fairly likely they end up purchasing it. A suggestion could be to make the add-to-cart button more prominent on the front page.*\n",
    "\n",
    "\n",
    "Step 10: adding new column"
   ]
  },
  {
   "cell_type": "code",
   "execution_count": null,
   "metadata": {},
   "outputs": [],
   "source": []
  },
  {
   "cell_type": "markdown",
   "metadata": {},
   "source": [
    "Step 11: examine the results"
   ]
  },
  {
   "cell_type": "code",
   "execution_count": null,
   "metadata": {},
   "outputs": [],
   "source": []
  },
  {
   "cell_type": "markdown",
   "metadata": {},
   "source": [
    "Step 12: average time to purchase"
   ]
  },
  {
   "cell_type": "code",
   "execution_count": null,
   "metadata": {},
   "outputs": [],
   "source": []
  },
  {
   "cell_type": "code",
   "execution_count": null,
   "metadata": {},
   "outputs": [],
   "source": []
  }
 ],
 "metadata": {
  "kernelspec": {
   "display_name": "Python 3 (ipykernel)",
   "language": "python",
   "name": "python3"
  },
  "language_info": {
   "codemirror_mode": {
    "name": "ipython",
    "version": 3
   },
   "file_extension": ".py",
   "mimetype": "text/x-python",
   "name": "python",
   "nbconvert_exporter": "python",
   "pygments_lexer": "ipython3",
   "version": "3.8.10"
  }
 },
 "nbformat": 4,
 "nbformat_minor": 4
}
